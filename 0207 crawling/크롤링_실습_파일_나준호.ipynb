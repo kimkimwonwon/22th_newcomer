{
 "cells": [
  {
   "cell_type": "markdown",
   "metadata": {
    "id": "xFZz2meUFRSG"
   },
   "source": [
    "## Requests, BeautifulSoup, Selenium 다운로드"
   ]
  },
  {
   "cell_type": "code",
   "execution_count": null,
   "metadata": {
    "colab": {
     "base_uri": "https://localhost:8080/"
    },
    "executionInfo": {
     "elapsed": 17215,
     "status": "ok",
     "timestamp": 1659609852731,
     "user": {
      "displayName": "임우찬",
      "userId": "02861899588149660109"
     },
     "user_tz": -540
    },
    "id": "1nw791l8V8GX",
    "outputId": "91e6572e-f7a8-44c6-c9c1-fc3806bec3a0",
    "scrolled": true
   },
   "outputs": [],
   "source": [
    "!pip3 install requests\n",
    "!pip3 install bs4\n",
    "!pip3 install selenium"
   ]
  },
  {
   "cell_type": "code",
   "execution_count": null,
   "metadata": {},
   "outputs": [],
   "source": [
    "# 모듈 설치 에러시\n",
    "\n",
    "# 터미널에서 which python 명령 후 경로 확인\n",
    "# jupyter notebook에서 아래 코드 입력\n",
    "from sys import executable\n",
    "print(executable)\n",
    "\n",
    "# 두 경로가 다르면 주피터 노트북에 설치하기 위해선 경로 명시가 필요함\n",
    "\n",
    "# 예시\n",
    "!/Users/hona/miniconda3/bin/python3 -m pip install bs4\n",
    "!/Users/hona/miniconda3/bin/python3 -m pip install selenium"
   ]
  },
  {
   "cell_type": "markdown",
   "metadata": {
    "id": "F5X_2leVV8Gg"
   },
   "source": [
    "### robots.txt 확인"
   ]
  },
  {
   "cell_type": "code",
   "execution_count": null,
   "metadata": {},
   "outputs": [],
   "source": [
    "import requests \n",
    "\n",
    "url = \"https://www.zigbang.com/\"\n",
    "res = requests.get(url)"
   ]
  },
  {
   "cell_type": "code",
   "execution_count": null,
   "metadata": {},
   "outputs": [],
   "source": [
    "print(res)\n",
    "res.text"
   ]
  },
  {
   "cell_type": "markdown",
   "metadata": {
    "id": "YiXRrDbUDz8w"
   },
   "source": [
    "#### HTTP 상태 코드\n",
    " - 1xx (정보): 요청을 받았으며 프로세스를 계속한다\n",
    " - 2xx (성공): 요청을 성공적으로 받았으며 인식했고 수용하였다\n",
    " - 3xx (리다이렉션): 요청 완료를 위해 추가 작업 조치가 필요하다\n",
    " - 4xx (클라이언트 오류): 요청의 문법이 잘못되었거나 요청을 처리할 수 없다\n",
    " - 5xx (서버 오류): 서버가 명백히 유효한 요청에 대해 충족을 실패했다\n",
    "\n",
    "[출처: 위키피디아](https://ko.wikipedia.org/wiki/HTTP_%EC%83%81%ED%83%9C_%EC%BD%94%EB%93%9C)"
   ]
  },
  {
   "cell_type": "code",
   "execution_count": null,
   "metadata": {
    "colab": {
     "base_uri": "https://localhost:8080/"
    },
    "executionInfo": {
     "elapsed": 51,
     "status": "ok",
     "timestamp": 1659600552523,
     "user": {
      "displayName": "임우찬",
      "userId": "02861899588149660109"
     },
     "user_tz": -540
    },
    "id": "XynCxsBBV8Gj",
    "outputId": "120cbb11-c7bd-43c6-bddd-56fabb3066e0",
    "scrolled": true
   },
   "outputs": [],
   "source": [
    "res.status_code # HTTP 상태 코드 "
   ]
  },
  {
   "cell_type": "markdown",
   "metadata": {},
   "source": [
    "## 1. 정적 페이지"
   ]
  },
  {
   "cell_type": "code",
   "execution_count": null,
   "metadata": {
    "colab": {
     "base_uri": "https://localhost:8080/",
     "height": 157
    },
    "executionInfo": {
     "elapsed": 2638,
     "status": "ok",
     "timestamp": 1659609898849,
     "user": {
      "displayName": "임우찬",
      "userId": "02861899588149660109"
     },
     "user_tz": -540
    },
    "id": "E2qtdbU8V8Gh",
    "outputId": "52094e80-1cbc-40c6-a24d-a8b42e014023"
   },
   "outputs": [],
   "source": [
    "import requests\n",
    "\n",
    "url = 'https://edition.cnn.com/2023/02/03/europe/bobi-worlds-oldest-ever-dog-intl-scli'\n",
    "res = requests.get(url)\n",
    "\n",
    "print(res) # 응답 객체\n",
    "res.text # HTML 텍스트"
   ]
  },
  {
   "cell_type": "markdown",
   "metadata": {
    "id": "SmxacOgJV8Gj"
   },
   "source": [
    "### BeautifulSoup"
   ]
  },
  {
   "cell_type": "code",
   "execution_count": null,
   "metadata": {
    "executionInfo": {
     "elapsed": 380,
     "status": "ok",
     "timestamp": 1659610173695,
     "user": {
      "displayName": "임우찬",
      "userId": "02861899588149660109"
     },
     "user_tz": -540
    },
    "id": "DT4nc__HV8Gk"
   },
   "outputs": [],
   "source": [
    "# 임시 html 텍스트\n",
    "html = '''\n",
    "<html>\n",
    "  <head>\n",
    "    <title>Example HTML</title>\n",
    "  </head>\n",
    "  <body>\n",
    "    <div id='first' class='Example'>\n",
    "      <h3 title='Good Content Title'>Contents Title</h3>\n",
    "      <p>Test contents</p>\n",
    "    </div>\n",
    "    <div id='second' class='Example'>\n",
    "      <p>Text1</p>\n",
    "      <p>Text2</p>\n",
    "      <p>Text3</p>\n",
    "    </div>\n",
    "  </body>\n",
    "</html>\n",
    "'''"
   ]
  },
  {
   "cell_type": "code",
   "execution_count": null,
   "metadata": {
    "executionInfo": {
     "elapsed": 510,
     "status": "ok",
     "timestamp": 1659610175583,
     "user": {
      "displayName": "임우찬",
      "userId": "02861899588149660109"
     },
     "user_tz": -540
    },
    "id": "EYGf2mDuV8Gl"
   },
   "outputs": [],
   "source": [
    "from bs4 import BeautifulSoup\n",
    "\n",
    "# 첫 번째 인자: 파싱할 객체\n",
    "# 두 번째 인자: 사용할 parser(구문 분석기)\n",
    "soup = BeautifulSoup(html, 'html.parser') "
   ]
  },
  {
   "cell_type": "markdown",
   "metadata": {
    "id": "z1xI1ED-V8Gm"
   },
   "source": [
    "find(), find_all()\n",
    "\n",
    "태그 검색   \n",
    "- find(tag, attributes, recursive, text, keywords)   \n",
    "- find_all(tag, attributes, recursive, text, limit, keywords)   \n",
    "\n",
    "get_text()\n",
    "\n",
    "태그 내 텍스트 반환(부모 태그의 경우 자식 태그의 텍스트를 모두 반환)"
   ]
  },
  {
   "cell_type": "code",
   "execution_count": null,
   "metadata": {
    "colab": {
     "base_uri": "https://localhost:8080/",
     "height": 53
    },
    "executionInfo": {
     "elapsed": 339,
     "status": "ok",
     "timestamp": 1659610179590,
     "user": {
      "displayName": "임우찬",
      "userId": "02861899588149660109"
     },
     "user_tz": -540
    },
    "id": "7RZgpvX3V8Gn",
    "outputId": "f0c8241e-e50e-403a-ac82-7fae2d39d0d1"
   },
   "outputs": [],
   "source": [
    "tag = soup.find('h3')\n",
    "print(tag)\n",
    "tag.get_text()"
   ]
  },
  {
   "cell_type": "code",
   "execution_count": null,
   "metadata": {
    "colab": {
     "base_uri": "https://localhost:8080/",
     "height": 53
    },
    "executionInfo": {
     "elapsed": 386,
     "status": "ok",
     "timestamp": 1659610263020,
     "user": {
      "displayName": "임우찬",
      "userId": "02861899588149660109"
     },
     "user_tz": -540
    },
    "id": "Q8OJqoaZV8Gp",
    "outputId": "f2d6d91d-34be-4fbd-f739-fbed09e78a64"
   },
   "outputs": [],
   "source": [
    "tag = soup.find('p')\n",
    "print(tag)\n",
    "tag.get_text()"
   ]
  },
  {
   "cell_type": "code",
   "execution_count": null,
   "metadata": {
    "colab": {
     "base_uri": "https://localhost:8080/"
    },
    "executionInfo": {
     "elapsed": 3,
     "status": "ok",
     "timestamp": 1659610264478,
     "user": {
      "displayName": "임우찬",
      "userId": "02861899588149660109"
     },
     "user_tz": -540
    },
    "id": "wRBikSJlV8Gr",
    "outputId": "0e40d290-72f2-474a-a081-668f5d10d8c9"
   },
   "outputs": [],
   "source": [
    "# find_all은 list 형태로 값 반환\n",
    "soup.find_all('p')"
   ]
  },
  {
   "cell_type": "code",
   "execution_count": null,
   "metadata": {
    "colab": {
     "base_uri": "https://localhost:8080/",
     "height": 35
    },
    "executionInfo": {
     "elapsed": 325,
     "status": "ok",
     "timestamp": 1659610326566,
     "user": {
      "displayName": "임우찬",
      "userId": "02861899588149660109"
     },
     "user_tz": -540
    },
    "id": "3J8_7Y30V8Gs",
    "outputId": "ac42df46-39a6-4d5c-8bce-518b5e4701a9"
   },
   "outputs": [],
   "source": [
    "soup.find_all('p')[2].get_text()"
   ]
  },
  {
   "cell_type": "code",
   "execution_count": null,
   "metadata": {
    "colab": {
     "base_uri": "https://localhost:8080/"
    },
    "executionInfo": {
     "elapsed": 5,
     "status": "ok",
     "timestamp": 1659610320260,
     "user": {
      "displayName": "임우찬",
      "userId": "02861899588149660109"
     },
     "user_tz": -540
    },
    "id": "xoc6Y0Z_V8Gt",
    "outputId": "5fc3e4aa-0439-4d43-9335-fd22e029d7f1"
   },
   "outputs": [],
   "source": [
    "# 개수 제한\n",
    "soup.find_all('p', limit=2)"
   ]
  },
  {
   "cell_type": "code",
   "execution_count": null,
   "metadata": {
    "colab": {
     "base_uri": "https://localhost:8080/"
    },
    "executionInfo": {
     "elapsed": 333,
     "status": "ok",
     "timestamp": 1659610392969,
     "user": {
      "displayName": "임우찬",
      "userId": "02861899588149660109"
     },
     "user_tz": -540
    },
    "id": "qdwuVk86vaeF",
    "outputId": "465135fc-ed11-4508-a43d-616f62aa0b6c",
    "scrolled": true
   },
   "outputs": [],
   "source": [
    "# 여러 태그\n",
    "soup.find_all({'p', 'h3'})"
   ]
  },
  {
   "cell_type": "code",
   "execution_count": null,
   "metadata": {
    "colab": {
     "base_uri": "https://localhost:8080/"
    },
    "executionInfo": {
     "elapsed": 337,
     "status": "ok",
     "timestamp": 1659610395745,
     "user": {
      "displayName": "임우찬",
      "userId": "02861899588149660109"
     },
     "user_tz": -540
    },
    "id": "Oi8nufICUzpS",
    "outputId": "f218ee77-8c5a-40c7-ebff-930fbcb324bd"
   },
   "outputs": [],
   "source": [
    "soup.find('div')"
   ]
  },
  {
   "cell_type": "code",
   "execution_count": null,
   "metadata": {
    "colab": {
     "base_uri": "https://localhost:8080/",
     "height": 35
    },
    "executionInfo": {
     "elapsed": 496,
     "status": "ok",
     "timestamp": 1659610573558,
     "user": {
      "displayName": "임우찬",
      "userId": "02861899588149660109"
     },
     "user_tz": -540
    },
    "id": "fSBe48gQU2ut",
    "outputId": "8ceaa3c0-19bf-4019-9f22-49818987d4be"
   },
   "outputs": [],
   "source": [
    "soup.find('div').get_text().replace('\\n', '')"
   ]
  },
  {
   "cell_type": "code",
   "execution_count": null,
   "metadata": {
    "colab": {
     "base_uri": "https://localhost:8080/"
    },
    "executionInfo": {
     "elapsed": 359,
     "status": "ok",
     "timestamp": 1659610438417,
     "user": {
      "displayName": "임우찬",
      "userId": "02861899588149660109"
     },
     "user_tz": -540
    },
    "id": "gS-7sAXUvaeG",
    "outputId": "e0dde4b5-2db1-4b01-8d3f-b614a81083c9"
   },
   "outputs": [],
   "source": [
    "# 특정 속성을 가진 태그 검색\n",
    "soup.find('div', {'id': 'second'})"
   ]
  },
  {
   "cell_type": "code",
   "execution_count": null,
   "metadata": {
    "colab": {
     "base_uri": "https://localhost:8080/"
    },
    "executionInfo": {
     "elapsed": 345,
     "status": "ok",
     "timestamp": 1659610445312,
     "user": {
      "displayName": "임우찬",
      "userId": "02861899588149660109"
     },
     "user_tz": -540
    },
    "id": "zfp6mLy2V8Gv",
    "outputId": "5c3883da-34a6-4cca-8031-0f033ddd2db2",
    "scrolled": true
   },
   "outputs": [],
   "source": [
    "# keyword 매개변수 이용\n",
    "soup.find('div', id='second')"
   ]
  },
  {
   "cell_type": "code",
   "execution_count": null,
   "metadata": {
    "colab": {
     "base_uri": "https://localhost:8080/"
    },
    "executionInfo": {
     "elapsed": 326,
     "status": "ok",
     "timestamp": 1659610507548,
     "user": {
      "displayName": "임우찬",
      "userId": "02861899588149660109"
     },
     "user_tz": -540
    },
    "id": "OWcXf_d2QhIm",
    "outputId": "f42b72f2-d0cd-4da5-8fb2-b134a4a004bd"
   },
   "outputs": [],
   "source": [
    "soup.find('div', id='second', class_='Example')"
   ]
  },
  {
   "cell_type": "code",
   "execution_count": null,
   "metadata": {
    "colab": {
     "base_uri": "https://localhost:8080/"
    },
    "executionInfo": {
     "elapsed": 3,
     "status": "ok",
     "timestamp": 1659610515263,
     "user": {
      "displayName": "임우찬",
      "userId": "02861899588149660109"
     },
     "user_tz": -540
    },
    "id": "UD1mO67BV8Gx",
    "outputId": "6b5a010b-17e3-4162-abbf-791b34f34868"
   },
   "outputs": [],
   "source": [
    "# 속성이 여러 개일 경우\n",
    "attrs = {\n",
    "    'id': 'second',\n",
    "    'class': 'Example'\n",
    "}\n",
    "soup.find('div', attrs)"
   ]
  },
  {
   "cell_type": "markdown",
   "metadata": {
    "id": "HoTB2JT2V8Gy"
   },
   "source": [
    "CNN 뉴스 다시 가져와서 확인해보기"
   ]
  },
  {
   "cell_type": "code",
   "execution_count": null,
   "metadata": {
    "colab": {
     "base_uri": "https://localhost:8080/"
    },
    "executionInfo": {
     "elapsed": 1077,
     "status": "ok",
     "timestamp": 1659610823899,
     "user": {
      "displayName": "임우찬",
      "userId": "02861899588149660109"
     },
     "user_tz": -540
    },
    "id": "nPMYsL5QnYs7",
    "outputId": "6eb64eae-e8ed-4889-ee1e-12b1da9e58c4"
   },
   "outputs": [],
   "source": [
    "url = 'https://edition.cnn.com/2023/02/03/europe/bobi-worlds-oldest-ever-dog-intl-scli'\n",
    "res = requests.get(url)\n",
    "\n",
    "# 첫번째 인자를 텍스트로 넣어줘야 함\n",
    "soup = BeautifulSoup(res.text, 'html.parser')"
   ]
  },
  {
   "cell_type": "code",
   "execution_count": null,
   "metadata": {},
   "outputs": [],
   "source": [
    "soup.find('h1').get_text()"
   ]
  },
  {
   "cell_type": "code",
   "execution_count": null,
   "metadata": {},
   "outputs": [],
   "source": [
    "soup.find('div')"
   ]
  },
  {
   "cell_type": "markdown",
   "metadata": {
    "id": "BYFWFXHlV8G5"
   },
   "source": [
    "## 2. 동적 페이지 -  Selenium"
   ]
  },
  {
   "cell_type": "code",
   "execution_count": null,
   "metadata": {},
   "outputs": [],
   "source": [
    "import selenium\n",
    "from selenium import webdriver\n",
    "\n",
    "driver = webdriver.Chrome()"
   ]
  },
  {
   "cell_type": "code",
   "execution_count": null,
   "metadata": {
    "colab": {
     "base_uri": "https://localhost:8080/"
    },
    "executionInfo": {
     "elapsed": 1016,
     "status": "ok",
     "timestamp": 1659610924638,
     "user": {
      "displayName": "임우찬",
      "userId": "02861899588149660109"
     },
     "user_tz": -540
    },
    "id": "0W8PB-PLV8G5",
    "outputId": "d88f414d-320a-411c-99da-8e6ab106406d"
   },
   "outputs": [],
   "source": [
    "''' 옵션 설정\n",
    "\n",
    "chrome_options = webdriver.ChromeOptions()\n",
    "\n",
    "chrome_options.add_argument('--headless') #내부 창을 띄울 수 없으므로 설정 / COLAB에선 반드시 사용해야 함\n",
    "\n",
    "\n",
    "# 브라우저 창이 안뜨고 실행\n",
    "options.add_argument('headless')\n",
    "\n",
    "# 브라우저 사이즈 설정\n",
    "options.add_argument('window-size=1920x1080')\n",
    "\n",
    "# 옵션 적용\n",
    "driver = webdriver.Chrome(path, options=options)\n",
    "'''"
   ]
  },
  {
   "cell_type": "code",
   "execution_count": null,
   "metadata": {},
   "outputs": [],
   "source": [
    "# 실행이 안될 시\n",
    "!pip install webdriver_manager\n",
    "\n",
    "import selenium\n",
    "from selenium import webdriver\n",
    "from webdriver_manager.chrome import ChromeDriverManager\n",
    "driver = webdriver.Chrome(ChromeDriverManager().install())"
   ]
  },
  {
   "cell_type": "code",
   "execution_count": null,
   "metadata": {
    "executionInfo": {
     "elapsed": 4941,
     "status": "ok",
     "timestamp": 1659611036766,
     "user": {
      "displayName": "임우찬",
      "userId": "02861899588149660109"
     },
     "user_tz": -540
    },
    "id": "VA70xIVMV8G6"
   },
   "outputs": [],
   "source": [
    "from selenium.webdriver.common.by import By\n",
    "from selenium.webdriver.common.keys import Keys\n",
    "\n",
    "# 해당 URL로 이동\n",
    "driver.get('https://www.naver.com/') \n",
    "\n",
    "# 웹 페이지 요소 로드를 기다림\n",
    "driver.implicitly_wait(5)"
   ]
  },
  {
   "cell_type": "markdown",
   "metadata": {
    "id": "n5-tDrDsvaeM"
   },
   "source": [
    "\\* 셀레니움 사용 시 브라우저에서 해당 웹 페이지의 요소들을 로드하는 데 시간이 좀 걸리기 때문에, element가 존재하지 않는다는 error가 발생할 수 있다.   \n",
    "그럴 경우 해당 요소가 전부 준비가 될 때까지 대기해야 한다.\n",
    "\n",
    "```python\n",
    "driver.implicitly_wait(time_to_wait=5)\n",
    "```\n",
    "-> 찾으려는 element가 로드될 때까지 지정한 시간만큼 대기할 수 있도록 설정   \n",
    "위 방법은 암시적 대기 방식으로, webdriver에 영구적으로 작용된다.   \n",
    "time_to_wait=5: 5초까지 기다림\n",
    "\n",
    "https://workingwithpython.com/selenium-waits/"
   ]
  },
  {
   "cell_type": "markdown",
   "metadata": {
    "id": "rI16IlqUGqOj"
   },
   "source": [
    "네이버 금융 주요뉴스 헤드라인 크롤링 "
   ]
  },
  {
   "cell_type": "markdown",
   "metadata": {
    "id": "OnWtVmBiHGFt"
   },
   "source": [
    "#### CSS Selector\n",
    "HTML 요소를 선택해주는 요소\n",
    "- 태그 선택자\n",
    "- 클래스 선택자(.)\n",
    "- ID 선택자(#)\n",
    "- 자식 선택자(>)\n",
    "- 하위 선택자( )"
   ]
  },
  {
   "cell_type": "code",
   "execution_count": null,
   "metadata": {
    "colab": {
     "base_uri": "https://localhost:8080/",
     "height": 35
    },
    "executionInfo": {
     "elapsed": 338,
     "status": "ok",
     "timestamp": 1659611315970,
     "user": {
      "displayName": "임우찬",
      "userId": "02861899588149660109"
     },
     "user_tz": -540
    },
    "id": "648JyTIUV8G7",
    "outputId": "8895ea6e-725a-49e4-afdc-1b85d0af5dd5"
   },
   "outputs": [],
   "source": [
    "# 현재 열려있는 페이지 url 찾기\n",
    "url = driver.current_url\n",
    "url"
   ]
  },
  {
   "cell_type": "markdown",
   "metadata": {},
   "source": [
    "### XPATH를 이용하여 웹 페이지 요소 가져오기"
   ]
  },
  {
   "cell_type": "code",
   "execution_count": null,
   "metadata": {},
   "outputs": [],
   "source": [
    "# XPATH를 이용하여 검색창에 해당하는 요소 찾기\n",
    "search = driver.find_element(By.XPATH, '//*[@id=\"query\"]')"
   ]
  },
  {
   "cell_type": "code",
   "execution_count": null,
   "metadata": {},
   "outputs": [],
   "source": [
    "# 검색어 입력\n",
    "search.send_keys('연세대학교')"
   ]
  },
  {
   "cell_type": "code",
   "execution_count": null,
   "metadata": {},
   "outputs": [],
   "source": [
    "# Keys.RETURN = Enter 입력\n",
    "search.send_keys(Keys.RETURN)"
   ]
  },
  {
   "cell_type": "code",
   "execution_count": null,
   "metadata": {},
   "outputs": [],
   "source": [
    "img = driver.find_element(By.XPATH, '//*[@id=\"main_pack\"]/div[3]/div[2]/div[1]/div/div[2]/a/img')\n",
    "img_url = img.get_attribute('src')"
   ]
  },
  {
   "cell_type": "code",
   "execution_count": null,
   "metadata": {},
   "outputs": [],
   "source": [
    "print(img_url)"
   ]
  },
  {
   "cell_type": "code",
   "execution_count": null,
   "metadata": {
    "executionInfo": {
     "elapsed": 348,
     "status": "ok",
     "timestamp": 1659611328585,
     "user": {
      "displayName": "임우찬",
      "userId": "02861899588149660109"
     },
     "user_tz": -540
    },
    "id": "knePBUvjV8G7"
   },
   "outputs": [],
   "source": [
    "# 브라우저 닫기\n",
    "driver.close()"
   ]
  },
  {
   "cell_type": "markdown",
   "metadata": {
    "id": "KjhQLQiSabny"
   },
   "source": [
    "## Thanks to 19기 배지호, 20기 임우찬"
   ]
  }
 ],
 "metadata": {
  "colab": {
   "collapsed_sections": [],
   "name": "크롤링 실습.ipynb",
   "provenance": []
  },
  "kernelspec": {
   "display_name": "Python 3 (ipykernel)",
   "language": "python",
   "name": "python3"
  },
  "language_info": {
   "codemirror_mode": {
    "name": "ipython",
    "version": 3
   },
   "file_extension": ".py",
   "mimetype": "text/x-python",
   "name": "python",
   "nbconvert_exporter": "python",
   "pygments_lexer": "ipython3",
   "version": "3.10.8"
  }
 },
 "nbformat": 4,
 "nbformat_minor": 1
}
